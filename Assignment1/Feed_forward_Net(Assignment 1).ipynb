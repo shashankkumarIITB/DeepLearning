{
 "cells": [
  {
   "source": [
    "<h1>Importing Libraries</h1>"
   ],
   "cell_type": "markdown",
   "metadata": {}
  },
  {
   "source": [
    "import numpy as np\n",
    "import matplotlib.pyplot as plt\n",
    "import math\n",
    "import random\n",
    "from sklearn import datasets"
   ],
   "cell_type": "code",
   "metadata": {},
   "execution_count": 1,
   "outputs": []
  },
  {
   "source": [
    "<h1>Neural Network Implementation</h1>"
   ],
   "cell_type": "markdown",
   "metadata": {}
  },
  {
   "cell_type": "code",
   "execution_count": 2,
   "metadata": {},
   "outputs": [],
   "source": [
    "class Neural_Network():\n",
    "    def __init__(self, neurons, Activations, epochs=1000, learning_rate=0.001, loss='squared'): \n",
    "        # arguments: an array \"neurons\" consist of number of neurons for each layer, \n",
    "        # an array \"activations\" consisting of activation functions used for the hidden layers and output layer\n",
    "        self.inputSize = neurons[0] # Number of neurons in input layer\n",
    "        self.outputSize = neurons[-1] # Number of neurons in output layer\n",
    "        self.layers = len(neurons)\n",
    "        self.weights = [] #weights for each layer\n",
    "        self.biases = [] #biases in each layer \n",
    "        self.layer_activations = [] #activations in each layer\n",
    "        self.epochs = epochs #number of epochs to train the network\n",
    "        self.learning_rate = learning_rate #learning rate used for training\n",
    "        self.loss_function = loss\n",
    "        for i in range(len(neurons)-1): \n",
    "            self.weights.append(np.random.rand(neurons[i+1],neurons[i])) #weight matrix between layer i and layer i+1\n",
    "            self.biases.append(np.random.rand(neurons[i+1],1))\n",
    "            self.layer_activations.append(Activations[i]) #activations for each layer\n",
    "        \n",
    "    def sigmoid(self, z): # sigmoid activation function\n",
    "        #Fill in the details to compute and return the sigmoid activation function                  \n",
    "        return 1.0 / (1.0 + np.exp(-z))\n",
    "    \n",
    "    def sigmoidPrime(self, z): # derivative of sigmoid activation function\n",
    "        #Fill in the details to compute and return the derivative of sigmoid activation function\n",
    "        return self.sigmoid(z) * (1 - self.sigmoid(z))\n",
    "                          \n",
    "    def tanh(self, z): # hyperbolic tan activation function\n",
    "        #Fill in the details to compute and return the tanh activation function                  \n",
    "        exp_z = np.exp(z)\n",
    "        exp_z_negative = np.exp(-z)\n",
    "        return (exp_z - exp_z_negative) / (exp_z + exp_z_negative)  \n",
    "    \n",
    "    def tanhPrime(self, z): # derivative of hyperbolic tan activation function\n",
    "        #Fill in the details to compute and return the derivative of tanh activation function\n",
    "        return 1 - self.tanh(z) ** 2\n",
    "                          \n",
    "    def linear(self, z): # Linear activation function\n",
    "        #Fill in the details to compute and return the linear activation function                                    \n",
    "        return z\n",
    "    \n",
    "    def linearPrime(self, z): # derivative of linear activation function\n",
    "        #Fill in the details to compute and return the derivative of activation function                                                      \n",
    "        return np.ones(z.shape)\n",
    "\n",
    "    def ReLU(self, z): # ReLU activation function\n",
    "        #Fill in the details to compute and return the ReLU activation function                  \n",
    "        return np.where(z < 0, 0, z)\n",
    "    \n",
    "    def ReLUPrime(self, z): # derivative of ReLU activation function\n",
    "        #Fill in the details to compute and return the derivative of ReLU activation function\n",
    "        return np.where(z < 0, 0, 1)\n",
    "    \n",
    "    def forward(self, a): # function of forward pass which will receive input and give the output of final layer\n",
    "        # Write the forward pass using the weights and biases to find the predicted value and return them.\n",
    "        layer_activations_a = [a] #store the input as the input layer activations\n",
    "        layer_dot_prod_z = []\n",
    "        for i, param in enumerate(zip(self.biases, self.weights)):\n",
    "            b, w = param[0], param[1]\n",
    "            z = np.dot(w, a) + b\n",
    "            if self.layer_activations[i].lower()  == 'sigmoid':\n",
    "                a = self.sigmoid(z)\n",
    "            elif self.layer_activations[i].lower() == 'relu':\n",
    "                a = self.ReLU(z)    \n",
    "            elif self.layer_activations[i].lower() == 'tanh':   \n",
    "                a = self.tanh(z)\n",
    "            elif self.layer_activations[i].lower() == 'linear':\n",
    "                a = self.linear(z)\n",
    "            layer_dot_prod_z.append(z)    \n",
    "            layer_activations_a.append(a)\n",
    "        return a, layer_dot_prod_z, layer_activations_a\n",
    "        \n",
    "    def loss(self, Y_hat, Y):\n",
    "        #Implement the loss function\n",
    "        if self.loss_function.lower() == 'cross-entropy':\n",
    "            epsilon = 10 ** -5\n",
    "            Y_hat = np.where(Y_hat == 1, 1 - epsilon, Y_hat)\n",
    "            Y_hat = np.where(Y_hat == 0, epsilon, Y_hat)\n",
    "            error = - Y * np.log(Y_hat) - (1 - Y) * np.log(1 - Y_hat) \n",
    "        elif self.loss_function.lower() == 'squared':\n",
    "            error = 0.5 * (Y_hat - Y) ** 2\n",
    "        return error\n",
    "\n",
    "    def loss_grad(self, Y_hat, Y):\n",
    "        #Return the gradient of the loss function\n",
    "        if self.loss_function.lower() == 'cross-entropy':\n",
    "            epsilon = 10 ** -5\n",
    "            Y_hat = np.where(Y_hat == 1, 1 - epsilon, Y_hat)\n",
    "            Y_hat = np.where(Y_hat == 0, epsilon, Y_hat)\n",
    "            grad = - Y / Y_hat - (1 - Y) / (1 - Y_hat) \n",
    "        elif self.loss_function.lower() == 'squared':\n",
    "            grad = Y_hat - Y\n",
    "        return grad\n",
    "        \n",
    "    def backward(self, x, y, zs, activations): # find the loss and return derivative of loss w.r.t every parameter\n",
    "        # Write the backpropagation algorithm here to find the gradients of weights and biases and return them.\n",
    "        # Assuming L2 loss\n",
    "        grad_b = [np.zeros(b.shape) for b in self.biases]\n",
    "        grad_w = [np.zeros(w.shape) for w in self.weights]\n",
    "\n",
    "        delta = self.loss_grad(activations[-1], y)\n",
    "        if self.layer_activations[-1].lower() == 'sigmoid':\n",
    "            delta = delta * self.sigmoidPrime(zs[-1])\n",
    "        elif self.layer_activations[-1].lower() == 'relu':\n",
    "            delta = delta * self.ReLUPrime(zs[-1])\n",
    "        elif self.layer_activations[-1].lower() == 'tanh':\n",
    "            delta = delta * self.tanhPrime(zs[-1])   \n",
    "        elif self.layer_activations[-1].lower() == 'linear':\n",
    "            delta = delta * self.linearPrime(zs[-1])\n",
    "        \n",
    "        # Number of training examples = m\n",
    "        m = delta.shape[1]\n",
    "        # fill in the appropriate details for gradients of w and b\n",
    "        grad_w[-1] = np.dot(delta, activations[-2].T) / m \n",
    "        grad_b[-1] = np.sum(delta, axis=1, keepdims=True) / m\n",
    "\n",
    "        for l in range(2, self.layers): # Here l is in backward sense i.e. last lth layer\n",
    "            z = zs[-l]\n",
    "            if self.layer_activations[-l].lower() == 'sigmoid':\n",
    "                prime = self.sigmoidPrime(z)\n",
    "            elif self.layer_activations[-l].lower() == 'relu':\n",
    "                prime = self.ReLUPrime(z)\n",
    "            elif self.layer_activations[-l].lower() == 'tanh':   \n",
    "                prime = self.tanhPrime(z)\n",
    "            elif self.layer_activations[-l].lower() == 'linear':\n",
    "                prime = self.linearPrime(z)\n",
    "\n",
    "            #Compute delta, gradients of b and w\n",
    "            delta = np.dot(self.weights[-l+1].T, delta) * prime\n",
    "            grad_w[-l] = np.dot(delta, activations[-l-1].T) / m \n",
    "            grad_b[-l] = np.sum(delta, axis=1, keepdims=True) / m\n",
    "\n",
    "        return (grad_b, grad_w)   \n",
    "\n",
    "    def update_parameters(self, grads, learning_rate): # update the parameters using the gradients\n",
    "        # update weights and biases using the gradients and the learning rate\n",
    "        grad_b, grad_w = grads[0], grads[1]       \n",
    "        \n",
    "        #Implement the update rule for weights  and biases\n",
    "        self.weights = [self.weights[i] - learning_rate * grad_w[i] for i in range(len(self.weights))]\n",
    "        self.biases = [self.biases[i] - learning_rate * grad_b[i] for i in range(len(self.biases))] \n",
    "\n",
    "    def train(self, X, Y, minibatch=False, batch_size=20): # receive the full training data set\n",
    "        lr = self.learning_rate # learning rate\n",
    "        epochs = self.epochs # number of epochs\n",
    "        loss_list = []\n",
    "        num_updates = 0 # number of updates\n",
    "        for e in range(epochs): \n",
    "            losses = []\n",
    "            for q in range(len(X)):\n",
    "                if minibatch == False:\n",
    "                    rows, cols = X[q].shape[0], 1\n",
    "                else:\n",
    "                    rows, cols = X[q].shape[1], X[q].shape[0]\n",
    "                train_x = np.resize(X[q], (rows, cols))\n",
    "                \n",
    "                if not onehotencoded: \n",
    "                    train_y = np.resize(Y[q],(1,1)) \n",
    "                else:\n",
    "                    train_y = np.resize(np.argmax(Y[q]),(1,1)) \n",
    "                \n",
    "                out, dot_prod_z, activations_a = self.forward(train_x)\n",
    "                loss = self.loss(out, train_y)\n",
    "                grads = self.backward(train_x, train_y, dot_prod_z, activations_a) # find the gradients using backward pass\n",
    "                self.update_parameters(grads, lr)\n",
    "                num_updates += 1\n",
    "                losses.append(loss)\n",
    "            \n",
    "            loss_mean = np.mean(np.array(losses))\n",
    "            loss_list.append(loss_mean)\n",
    "            print(f'Epoch: {e} Loss: {loss_mean}')\n",
    "            print(f'Epoch: {e} Number of updates: {num_updates}')\n",
    "            num_updates = 0\n",
    "        return loss_list\n",
    "        \n",
    "    def predict(self, x):\n",
    "        print (\"Input : \\n\" + str(x))\n",
    "        prediction,_,_ = self.forward(x)\n",
    "        print (\"Output: \\n\" + str(prediction))\n"
   ]
  },
  {
   "source": [
    "# Miscellaneous Functions"
   ],
   "cell_type": "markdown",
   "metadata": {}
  },
  {
   "source": [
    "### One-hot encoder"
   ],
   "cell_type": "markdown",
   "metadata": {}
  },
  {
   "cell_type": "code",
   "execution_count": 3,
   "metadata": {},
   "outputs": [],
   "source": [
    "# a method for creating one hot encoded labels \n",
    "def onehotencoding(Y):\n",
    "    rows = Y.shape[0]\n",
    "    values = {e:i for i, e in enumerate(np.unique(Y))}\n",
    "    y_enc = np.zeros((rows, len(values)))\n",
    "    for i in range(rows):\n",
    "        j = values[Y[i]]\n",
    "        y_enc[i][j] = 1\n",
    "    return y_enc"
   ]
  },
  {
   "source": [
    "### Create mini-batches"
   ],
   "cell_type": "markdown",
   "metadata": {}
  },
  {
   "cell_type": "code",
   "execution_count": 4,
   "metadata": {},
   "outputs": [],
   "source": [
    "#a method to create minibatches \n",
    "def create_minibatches(X, Y, minibatchsize):\n",
    "    numbatches = int(np.ceil(len(X)/minibatchsize))\n",
    "    idx = np.arange(len(X))\n",
    "    np.random.shuffle(idx)\n",
    "    X_minibatches = []\n",
    "    Y_minibatches = [] \n",
    "    for i in range(numbatches):\n",
    "        idx_minibatch = idx[i*minibatchsize:min(len(idx),(i+1)*minibatchsize)]\n",
    "        xn = np.take(X,idx_minibatch,axis=0) \n",
    "        yn = np.take(Y,idx_minibatch,axis=0)\n",
    "        X_minibatches.append(xn)\n",
    "        Y_minibatches.append(yn)\n",
    "    X_minibatches, Y_minibatches = np.array(X_minibatches), np.array(Y_minibatches)\n",
    "    return X_minibatches, Y_minibatches"
   ]
  },
  {
   "source": [
    "### Test mini-batches created"
   ],
   "cell_type": "markdown",
   "metadata": {}
  },
  {
   "cell_type": "code",
   "execution_count": 5,
   "metadata": {
    "tags": []
   },
   "outputs": [],
   "source": [
    "def test_create_minibatches():\n",
    "    X = []\n",
    "    Y = []\n",
    "    batch_size = 2\n",
    "    for i in range(20):\n",
    "        if(i % 2 == 0):\n",
    "            X.append([np.random.randint(1,10) for i1 in range(inputsize)])\n",
    "            Y.append(1)\n",
    "        else:\n",
    "            X.append([np.random.randint(-10,1) for i1 in range(inputsize)])\n",
    "            Y.append(0)\n",
    "    X = np.array(X)\n",
    "    Y = np.array(Y)\n",
    "\n",
    "    X_mb, Y_mb = create_minibatches(X,Y,batch_size)\n",
    "    print(X_mb, Y_mb)\n"
   ]
  },
  {
   "source": [
    "### Generate random data"
   ],
   "cell_type": "markdown",
   "metadata": {}
  },
  {
   "cell_type": "code",
   "execution_count": 6,
   "metadata": {},
   "outputs": [],
   "source": [
    "def generateData(inputsize=3, onehotencoded=False, minibatch=False, batch_size=5):\n",
    "    X = []\n",
    "    Y = []\n",
    "    for i in range(500):\n",
    "        if(i % 2 == 0):\n",
    "            X.append([random.randint(1,10) for i1 in range(inputsize)])\n",
    "            Y.append(1)\n",
    "        else:\n",
    "            X.append([random.randint(-10,1) for i1 in range(inputsize)])\n",
    "            Y.append(0)\n",
    "    X = np.array(X)\n",
    "    Y = np.array(Y)\n",
    "    if onehotencoded:\n",
    "        Y = onehotencoding(Y)\n",
    "\n",
    "    if minibatch == False:\n",
    "        train_X = X\n",
    "        train_Y = Y\n",
    "    else:\n",
    "        train_X, train_Y = create_minibatches(X, Y, batch_size)\n",
    "    return train_X, train_Y"
   ]
  },
  {
   "cell_type": "markdown",
   "metadata": {},
   "source": [
    "# Question 2(1)(d)"
   ]
  },
  {
   "cell_type": "code",
   "execution_count": 7,
   "metadata": {
    "tags": []
   },
   "outputs": [],
   "source": [
    "def question_2d():\n",
    "    #D_in is input dimension\n",
    "    #H1 is dimension of first hidden layer \n",
    "    #H2 is dimension of second hidden layer\n",
    "    #D_out is output dimension.\n",
    "    epochs = 20\n",
    "    learning_rate = 0.001\n",
    "    inputsize = 3\n",
    "    loss_function = 'squared'\n",
    "    \n",
    "    onehotencoded = False\n",
    "    minibatch = False\n",
    "    train_X, train_Y = generateData(inputsize, onehotencoded, minibatch)\n",
    "\n",
    "    D_in, H1, H2, H3, H4, D_out = inputsize, 10, 5, 10, 5, 1 \n",
    "    # list of number of neurons in the layers sequentially.\n",
    "    neurons = [D_in, H1, H2, H3, H4, D_out] \n",
    "    # activations in each layer (Note: the input layer does not have any activation)\n",
    "    activation_functions = ['linear','linear', 'tanh', 'relu', 'sigmoid'] \n",
    "\n",
    "    # Train the network\n",
    "    neuralnet = Neural_Network(neurons, activation_functions, epochs, learning_rate, loss_function)\n",
    "    loss = neuralnet.train(train_X, train_Y, minibatch=minibatch)\n",
    "    \n",
    "    # Predict on the trained network\n",
    "    neuralnet.predict(np.array([8,4,9]).reshape((3,1)))\n",
    "    \n",
    "    # Plot the results\n",
    "    plt.plot(loss)\n",
    "    plt.show()\n",
    "\n",
    "# question_2d()"
   ]
  },
  {
   "cell_type": "code",
   "execution_count": null,
   "metadata": {},
   "outputs": [],
   "source": []
  },
  {
   "source": [
    "# Question 2(1)(e)"
   ],
   "cell_type": "markdown",
   "metadata": {}
  },
  {
   "cell_type": "code",
   "execution_count": 8,
   "metadata": {
    "tags": []
   },
   "outputs": [],
   "source": [
    "def question_2e():\n",
    "    #D_in is input dimension\n",
    "    #H1 is dimension of first hidden layer \n",
    "    #H2 is dimension of second hidden layer\n",
    "    #D_out is output dimension.\n",
    "    epochs = 100\n",
    "    learning_rate = 0.001\n",
    "    inputsize = 3\n",
    "    loss_function = 'squared'\n",
    "\n",
    "    onehotencoded = False\n",
    "    minibatch = True\n",
    "    batch_size = 20\n",
    "    train_X, train_Y = generateData(inputsize, onehotencoded, minibatch, batch_size)\n",
    "    print(train_X.shape, train_Y.shape)\n",
    "\n",
    "    D_in, H1, H2, H3, H4, D_out = inputsize, 10, 5, 10, 5, 1 \n",
    "    # list of number of neurons in the layers sequentially.\n",
    "    neurons = [D_in, H1, H2, H3, H4, D_out] \n",
    "    # activations in each layer (Note: the input layer does not have any activation)\n",
    "    activation_functions = ['linear','linear', 'tanh', 'relu', 'sigmoid'] \n",
    "\n",
    "    # Train the network\n",
    "    neuralnet = Neural_Network(neurons, activation_functions, epochs, learning_rate, loss_function)\n",
    "    loss = neuralnet.train(train_X, train_Y, minibatch=minibatch)\n",
    "    \n",
    "    # Predict on the trained network\n",
    "    neuralnet.predict(np.array([8,4,9]).reshape((3,1)))\n",
    "    \n",
    "    # Plot the results\n",
    "    plt.plot(loss)\n",
    "    plt.show()\n",
    "\n",
    "# question_2e()"
   ]
  },
  {
   "source": [
    "# Question 2(1)(f)\n",
    "### Observation \n",
    "Stochastic gradient descent performs better than mini-batch gradient descent.\n",
    "### Why?"
   ],
   "cell_type": "markdown",
   "metadata": {}
  },
  {
   "source": [
    "# Question 2(2)\n",
    "\n",
    "### Exploding and vanishing gradients"
   ],
   "cell_type": "markdown",
   "metadata": {}
  },
  {
   "source": [
    "# Question 3\n",
    "### Import dataset"
   ],
   "cell_type": "markdown",
   "metadata": {}
  },
  {
   "cell_type": "code",
   "execution_count": 9,
   "metadata": {
    "tags": []
   },
   "outputs": [],
   "source": [
    "def loadData():\n",
    "    data = datasets.load_digits()\n",
    "    return data['data'], data['target']"
   ]
  },
  {
   "source": [
    "### Data preprocessing"
   ],
   "cell_type": "markdown",
   "metadata": {}
  },
  {
   "cell_type": "code",
   "execution_count": 10,
   "metadata": {},
   "outputs": [],
   "source": [
    "def preprocess():\n",
    "    X, Y = loadData()\n",
    "    X = X / 255\n",
    "    return X, Y\n",
    "    "
   ]
  },
  {
   "source": [
    "### Create a neural network"
   ],
   "cell_type": "markdown",
   "metadata": {}
  },
  {
   "cell_type": "code",
   "execution_count": 12,
   "metadata": {
    "tags": []
   },
   "outputs": [
    {
     "output_type": "stream",
     "name": "stdout",
     "text": "(1,) (1,)\nEpoch: 0 Loss: 2081.7102764365145\nEpoch: 0 Number of updates: 1\nEpoch: 1 Loss: 2028.3485687115547\nEpoch: 1 Number of updates: 1\nEpoch: 2 Loss: 1976.354713124116\nEpoch: 2 Number of updates: 1\nEpoch: 3 Loss: 1925.6936467133241\nEpoch: 3 Number of updates: 1\nEpoch: 4 Loss: 1876.3312053078698\nEpoch: 4 Number of updates: 1\nEpoch: 5 Loss: 1828.2341004868026\nEpoch: 5 Number of updates: 1\nEpoch: 6 Loss: 1781.3698971309054\nEpoch: 6 Number of updates: 1\nEpoch: 7 Loss: 1735.7069915495092\nEpoch: 7 Number of updates: 1\nEpoch: 8 Loss: 1691.2145901679962\nEpoch: 8 Number of updates: 1\nEpoch: 9 Loss: 1647.862688761611\nEpoch: 9 Number of updates: 1\nEpoch: 10 Loss: 1605.6220522215983\nEpoch: 10 Number of updates: 1\nEpoch: 11 Loss: 1564.464194839992\nEpoch: 11 Number of updates: 1\nEpoch: 12 Loss: 1524.3613610997834\nEpoch: 12 Number of updates: 1\nEpoch: 13 Loss: 1485.2865069575096\nEpoch: 13 Number of updates: 1\nEpoch: 14 Loss: 1447.2132816056285\nEpoch: 14 Number of updates: 1\nEpoch: 15 Loss: 1410.116009702395\nEpoch: 15 Number of updates: 1\nEpoch: 16 Loss: 1373.9696740572476\nEpoch: 16 Number of updates: 1\nEpoch: 17 Loss: 1338.7498987600306\nEpoch: 17 Number of updates: 1\nEpoch: 18 Loss: 1304.4329327426747\nEpoch: 18 Number of updates: 1\nEpoch: 19 Loss: 1270.9956337622518\nEpoch: 19 Number of updates: 1\nEpoch: 20 Loss: 1238.4154527945993\nEpoch: 20 Number of updates: 1\nEpoch: 21 Loss: 1206.6704188279982\nEpoch: 21 Number of updates: 1\nEpoch: 22 Loss: 1175.7391240466327\nEpoch: 22 Number of updates: 1\nEpoch: 23 Loss: 1145.6007093938629\nEpoch: 23 Number of updates: 1\nEpoch: 24 Loss: 1116.2348505055513\nEpoch: 24 Number of updates: 1\nEpoch: 25 Loss: 1087.6217440039807\nEpoch: 25 Number of updates: 1\nEpoch: 26 Loss: 1059.7420941430978\nEpoch: 26 Number of updates: 1\nEpoch: 27 Loss: 1032.577099796092\nEpoch: 27 Number of updates: 1\nEpoch: 28 Loss: 1006.1084417765304\nEpoch: 28 Number of updates: 1\nEpoch: 29 Loss: 980.3182704844919\nEpoch: 29 Number of updates: 1\nEpoch: 30 Loss: 955.1891938693832\nEpoch: 30 Number of updates: 1\nEpoch: 31 Loss: 930.7042657013045\nEpoch: 31 Number of updates: 1\nEpoch: 32 Loss: 906.8469741430665\nEpoch: 32 Number of updates: 1\nEpoch: 33 Loss: 883.6012306151426\nEpoch: 33 Number of updates: 1\nEpoch: 34 Loss: 860.9513589460583\nEpoch: 34 Number of updates: 1\nEpoch: 35 Loss: 838.8820848008924\nEpoch: 35 Number of updates: 1\nEpoch: 36 Loss: 817.378525380761\nEpoch: 36 Number of updates: 1\nEpoch: 37 Loss: 796.4261793863459\nEpoch: 37 Number of updates: 1\nEpoch: 38 Loss: 776.0109172386897\nEpoch: 38 Number of updates: 1\nEpoch: 39 Loss: 756.1189715506698\nEpoch: 39 Number of updates: 1\nEpoch: 40 Loss: 736.7369278427178\nEpoch: 40 Number of updates: 1\nEpoch: 41 Loss: 717.8517154965381\nEpoch: 41 Number of updates: 1\nEpoch: 42 Loss: 699.450598940703\nEpoch: 42 Number of updates: 1\nEpoch: 43 Loss: 681.5211690622027\nEpoch: 43 Number of updates: 1\nEpoch: 44 Loss: 664.0513348381418\nEpoch: 44 Number of updates: 1\nEpoch: 45 Loss: 647.0293151819478\nEpoch: 45 Number of updates: 1\nEpoch: 46 Loss: 630.443630998593\nEpoch: 46 Number of updates: 1\nEpoch: 47 Loss: 614.2830974434637\nEpoch: 47 Number of updates: 1\nEpoch: 48 Loss: 598.536816379668\nEpoch: 48 Number of updates: 1\nEpoch: 49 Loss: 583.1941690286862\nEpoch: 49 Number of updates: 1\nEpoch: 50 Loss: 568.2448088094143\nEpoch: 50 Number of updates: 1\nEpoch: 51 Loss: 553.6786543607653\nEpoch: 51 Number of updates: 1\nEpoch: 52 Loss: 539.4858827431297\nEpoch: 52 Number of updates: 1\nEpoch: 53 Loss: 525.6569228141044\nEpoch: 53 Number of updates: 1\nEpoch: 54 Loss: 512.1824487740259\nEpoch: 54 Number of updates: 1\nEpoch: 55 Loss: 499.05337387695647\nEpoch: 55 Number of updates: 1\nEpoch: 56 Loss: 486.26084430287807\nEpoch: 56 Number of updates: 1\nEpoch: 57 Loss: 473.7962331869642\nEpoch: 57 Number of updates: 1\nEpoch: 58 Loss: 461.65113480190513\nEpoch: 58 Number of updates: 1\nEpoch: 59 Loss: 449.8173588893585\nEpoch: 59 Number of updates: 1\nEpoch: 60 Loss: 438.2869251367059\nEpoch: 60 Number of updates: 1\nEpoch: 61 Loss: 427.0520577953907\nEpoch: 61 Number of updates: 1\nEpoch: 62 Loss: 416.1051804372074\nEpoch: 62 Number of updates: 1\nEpoch: 63 Loss: 405.43891084500405\nEpoch: 63 Number of updates: 1\nEpoch: 64 Loss: 395.04605603435675\nEpoch: 64 Number of updates: 1\nEpoch: 65 Loss: 384.91960740285487\nEpoch: 65 Number of updates: 1\nEpoch: 66 Loss: 375.0527360037291\nEpoch: 66 Number of updates: 1\nEpoch: 67 Loss: 365.4387879406313\nEpoch: 67 Number of updates: 1\nEpoch: 68 Loss: 356.07127988046415\nEpoch: 68 Number of updates: 1\nEpoch: 69 Loss: 346.943894681233\nEpoch: 69 Number of updates: 1\nEpoch: 70 Loss: 338.0504771319712\nEpoch: 70 Number of updates: 1\nEpoch: 71 Loss: 329.3850298018659\nEpoch: 71 Number of updates: 1\nEpoch: 72 Loss: 320.94170899578705\nEpoch: 72 Number of updates: 1\nEpoch: 73 Loss: 312.7148208134898\nEpoch: 73 Number of updates: 1\nEpoch: 74 Loss: 304.69881730983326\nEpoch: 74 Number of updates: 1\nEpoch: 75 Loss: 296.8882927534282\nEpoch: 75 Number of updates: 1\nEpoch: 76 Loss: 289.27797998118666\nEpoch: 76 Number of updates: 1\nEpoch: 77 Loss: 281.8627468463207\nEpoch: 77 Number of updates: 1\nEpoch: 78 Loss: 274.6375927573884\nEpoch: 78 Number of updates: 1\nEpoch: 79 Loss: 267.5976453060585\nEpoch: 79 Number of updates: 1\nEpoch: 80 Loss: 260.7381569813176\nEpoch: 80 Number of updates: 1\nEpoch: 81 Loss: 254.0545019679029\nEpoch: 81 Number of updates: 1\nEpoch: 82 Loss: 247.5421730268035\nEpoch: 82 Number of updates: 1\nEpoch: 83 Loss: 241.1967784557253\nEpoch: 83 Number of updates: 1\nEpoch: 84 Loss: 235.01403912747054\nEpoch: 84 Number of updates: 1\nEpoch: 85 Loss: 228.989785604233\nEpoch: 85 Number of updates: 1\nEpoch: 86 Loss: 223.11995532586604\nEpoch: 86 Number of updates: 1\nEpoch: 87 Loss: 217.4005898702246\nEpoch: 87 Number of updates: 1\nEpoch: 88 Loss: 211.827832283733\nEpoch: 88 Number of updates: 1\nEpoch: 89 Loss: 206.39792448038304\nEpoch: 89 Number of updates: 1\nEpoch: 90 Loss: 201.107204707402\nEpoch: 90 Number of updates: 1\nEpoch: 91 Loss: 195.95210507588635\nEpoch: 91 Number of updates: 1\nEpoch: 92 Loss: 190.92914915473412\nEpoch: 92 Number of updates: 1\nEpoch: 93 Loss: 186.03494962625288\nEpoch: 93 Number of updates: 1\nEpoch: 94 Loss: 181.26620600186288\nEpoch: 94 Number of updates: 1\nEpoch: 95 Loss: 176.61970239635556\nEpoch: 95 Number of updates: 1\nEpoch: 96 Loss: 172.09230535920537\nEpoch: 96 Number of updates: 1\nEpoch: 97 Loss: 167.68096176147267\nEpoch: 97 Number of updates: 1\nEpoch: 98 Loss: 163.38269673687344\nEpoch: 98 Number of updates: 1\nEpoch: 99 Loss: 159.19461167562605\nEpoch: 99 Number of updates: 1\nEpoch: 100 Loss: 155.11388226972383\nEpoch: 100 Number of updates: 1\nEpoch: 101 Loss: 151.13775660831345\nEpoch: 101 Number of updates: 1\nEpoch: 102 Loss: 147.26355332189618\nEpoch: 102 Number of updates: 1\nEpoch: 103 Loss: 143.48865977409955\nEpoch: 103 Number of updates: 1\nEpoch: 104 Loss: 139.81053029980072\nEpoch: 104 Number of updates: 1\nEpoch: 105 Loss: 136.22668448841307\nEpoch: 105 Number of updates: 1\nEpoch: 106 Loss: 132.7347055111778\nEpoch: 106 Number of updates: 1\nEpoch: 107 Loss: 129.3322384913335\nEpoch: 107 Number of updates: 1\nEpoch: 108 Loss: 126.01698891606442\nEpoch: 108 Number of updates: 1\nEpoch: 109 Loss: 122.78672108915548\nEpoch: 109 Number of updates: 1\nEpoch: 110 Loss: 119.63925662331171\nEpoch: 110 Number of updates: 1\nEpoch: 111 Loss: 116.57247297112495\nEpoch: 111 Number of updates: 1\nEpoch: 112 Loss: 113.58430199369705\nEpoch: 112 Number of updates: 1\nEpoch: 113 Loss: 110.67272856595449\nEpoch: 113 Number of updates: 1\nEpoch: 114 Loss: 107.83578921771347\nEpoch: 114 Number of updates: 1\nEpoch: 115 Loss: 105.07157080958017\nEpoch: 115 Number of updates: 1\nEpoch: 116 Loss: 102.37820924279148\nEpoch: 116 Number of updates: 1\nEpoch: 117 Loss: 99.75388820212748\nEpoch: 117 Number of updates: 1\nEpoch: 118 Loss: 97.1968379310484\nEpoch: 118 Number of updates: 1\nEpoch: 119 Loss: 94.70533403822739\nEpoch: 119 Number of updates: 1\nEpoch: 120 Loss: 92.27769633467845\nEpoch: 120 Number of updates: 1\nEpoch: 121 Loss: 89.9122877006908\nEpoch: 121 Number of updates: 1\nEpoch: 122 Loss: 87.60751298180922\nEpoch: 122 Number of updates: 1\nEpoch: 123 Loss: 85.3618179131139\nEpoch: 123 Number of updates: 1\nEpoch: 124 Loss: 83.17368807107442\nEpoch: 124 Number of updates: 1\nEpoch: 125 Loss: 81.04164785227266\nEpoch: 125 Number of updates: 1\nEpoch: 126 Loss: 78.96425947830306\nEpoch: 126 Number of updates: 1\nEpoch: 127 Loss: 76.94012202618265\nEpoch: 127 Number of updates: 1\nEpoch: 128 Loss: 74.96787048361354\nEpoch: 128 Number of updates: 1\nEpoch: 129 Loss: 73.04617482846348\nEpoch: 129 Number of updates: 1\nEpoch: 130 Loss: 71.17373913184231\nEpoch: 130 Number of updates: 1\nEpoch: 131 Loss: 69.34930068416969\nEpoch: 131 Number of updates: 1\nEpoch: 132 Loss: 67.57162914364497\nEpoch: 132 Number of updates: 1\nEpoch: 133 Loss: 65.83952570654475\nEpoch: 133 Number of updates: 1\nEpoch: 134 Loss: 64.15182229878873\nEpoch: 134 Number of updates: 1\nEpoch: 135 Loss: 62.50738078822871\nEpoch: 135 Number of updates: 1\nEpoch: 136 Loss: 60.90509221712936\nEpoch: 136 Number of updates: 1\nEpoch: 137 Loss: 59.34387605432329\nEpoch: 137 Number of updates: 1\nEpoch: 138 Loss: 57.82267946653596\nEpoch: 138 Number of updates: 1\nEpoch: 139 Loss: 56.34047660838936\nEpoch: 139 Number of updates: 1\nEpoch: 140 Loss: 54.89626793060529\nEpoch: 140 Number of updates: 1\nEpoch: 141 Loss: 53.48907950594201\nEpoch: 141 Number of updates: 1\nEpoch: 142 Loss: 52.11796237240927\nEpoch: 142 Number of updates: 1\nEpoch: 143 Loss: 50.781991893319514\nEpoch: 143 Number of updates: 1\nEpoch: 144 Loss: 49.48026713374285\nEpoch: 144 Number of updates: 1\nEpoch: 145 Loss: 48.21191025294602\nEpoch: 145 Number of updates: 1\nEpoch: 146 Loss: 46.9760659124052\nEpoch: 146 Number of updates: 1\nEpoch: 147 Loss: 45.77190069899362\nEpoch: 147 Number of updates: 1\nEpoch: 148 Loss: 44.598602562954916\nEpoch: 148 Number of updates: 1\nEpoch: 149 Loss: 43.45538027028316\nEpoch: 149 Number of updates: 1\nEpoch: 150 Loss: 42.34146286914064\nEpoch: 150 Number of updates: 1\nEpoch: 151 Loss: 41.256099169952854\nEpoch: 151 Number of updates: 1\nEpoch: 152 Loss: 40.19855723883094\nEpoch: 152 Number of updates: 1\nEpoch: 153 Loss: 39.16812390397921\nEpoch: 153 Number of updates: 1\nEpoch: 154 Loss: 38.164104274755424\nEpoch: 154 Number of updates: 1\nEpoch: 155 Loss: 37.185821273059105\nEpoch: 155 Number of updates: 1\nEpoch: 156 Loss: 36.23261517673222\nEpoch: 156 Number of updates: 1\nEpoch: 157 Loss: 35.30384317466409\nEpoch: 157 Number of updates: 1\nEpoch: 158 Loss: 34.39887893330044\nEpoch: 158 Number of updates: 1\nEpoch: 159 Loss: 33.51711217426458\nEpoch: 159 Number of updates: 1\nEpoch: 160 Loss: 32.65794826280549\nEpoch: 160 Number of updates: 1\nEpoch: 161 Loss: 31.820807806795507\nEpoch: 161 Number of updates: 1\nEpoch: 162 Loss: 31.005126266007302\nEpoch: 162 Number of updates: 1\nEpoch: 163 Loss: 30.210353571406248\nEpoch: 163 Number of updates: 1\nEpoch: 164 Loss: 29.435953754201787\nEpoch: 164 Number of updates: 1\nEpoch: 165 Loss: 28.681404584407616\nEpoch: 165 Number of updates: 1\nEpoch: 166 Loss: 27.946197218666793\nEpoch: 166 Number of updates: 1\nEpoch: 167 Loss: 27.22983585710435\nEpoch: 167 Number of updates: 1\nEpoch: 168 Loss: 26.531837408976035\nEpoch: 168 Number of updates: 1\nEpoch: 169 Loss: 25.851731166887678\nEpoch: 169 Number of updates: 1\nEpoch: 170 Loss: 25.189058489365465\nEpoch: 170 Number of updates: 1\nEpoch: 171 Loss: 24.54337249156304\nEpoch: 171 Number of updates: 1\nEpoch: 172 Loss: 23.91423774389704\nEpoch: 172 Number of updates: 1\nEpoch: 173 Loss: 23.301229978407452\nEpoch: 173 Number of updates: 1\nEpoch: 174 Loss: 22.703935802645255\nEpoch: 174 Number of updates: 1\nEpoch: 175 Loss: 22.121952420893926\nEpoch: 175 Number of updates: 1\nEpoch: 176 Loss: 21.554887362537222\nEpoch: 176 Number of updates: 1\nEpoch: 177 Loss: 21.002358217389773\nEpoch: 177 Number of updates: 1\nEpoch: 178 Loss: 20.463992377812076\nEpoch: 178 Number of updates: 1\nEpoch: 179 Loss: 19.93942678743611\nEpoch: 179 Number of updates: 1\nEpoch: 180 Loss: 19.42830769633196\nEpoch: 180 Number of updates: 1\nEpoch: 181 Loss: 18.930290422450334\nEpoch: 181 Number of updates: 1\nEpoch: 182 Loss: 18.445039119180322\nEpoch: 182 Number of updates: 1\nEpoch: 183 Loss: 17.97222654886529\nEpoch: 183 Number of updates: 1\nEpoch: 184 Loss: 17.511533862124562\nEpoch: 184 Number of updates: 1\nEpoch: 185 Loss: 17.062650382831748\nEpoch: 185 Number of updates: 1\nEpoch: 186 Loss: 16.625273398604897\nEpoch: 186 Number of updates: 1\nEpoch: 187 Loss: 16.199107956667145\nEpoch: 187 Number of updates: 1\nEpoch: 188 Loss: 15.783866664940208\nEpoch: 188 Number of updates: 1\nEpoch: 189 Loss: 15.379269498236468\nEpoch: 189 Number of updates: 1\nEpoch: 190 Loss: 14.985043609419165\nEpoch: 190 Number of updates: 1\nEpoch: 191 Loss: 14.600923145403197\nEpoch: 191 Number of updates: 1\nEpoch: 192 Loss: 14.226649067872417\nEpoch: 192 Number of updates: 1\nEpoch: 193 Loss: 13.8619689785927\nEpoch: 193 Number of updates: 1\nEpoch: 194 Loss: 13.506636949202734\nEpoch: 194 Number of updates: 1\nEpoch: 195 Loss: 13.160413355368016\nEpoch: 195 Number of updates: 1\nEpoch: 196 Loss: 12.823064715185987\nEpoch: 196 Number of updates: 1\nEpoch: 197 Loss: 12.494363531733448\nEpoch: 197 Number of updates: 1\nEpoch: 198 Loss: 12.174088139650035\nEpoch: 198 Number of updates: 1\nEpoch: 199 Loss: 11.862022555654388\nEpoch: 199 Number of updates: 1\n"
    },
    {
     "output_type": "display_data",
     "data": {
      "text/plain": "<Figure size 432x288 with 1 Axes>",
      "image/svg+xml": "<?xml version=\"1.0\" encoding=\"utf-8\" standalone=\"no\"?>\n<!DOCTYPE svg PUBLIC \"-//W3C//DTD SVG 1.1//EN\"\n  \"http://www.w3.org/Graphics/SVG/1.1/DTD/svg11.dtd\">\n<!-- Created with matplotlib (https://matplotlib.org/) -->\n<svg height=\"248.518125pt\" version=\"1.1\" viewBox=\"0 0 381.65 248.518125\" width=\"381.65pt\" xmlns=\"http://www.w3.org/2000/svg\" xmlns:xlink=\"http://www.w3.org/1999/xlink\">\n <defs>\n  <style type=\"text/css\">\n*{stroke-linecap:butt;stroke-linejoin:round;}\n  </style>\n </defs>\n <g id=\"figure_1\">\n  <g id=\"patch_1\">\n   <path d=\"M -0 248.518125 \nL 381.65 248.518125 \nL 381.65 0 \nL -0 0 \nz\n\" style=\"fill:none;\"/>\n  </g>\n  <g id=\"axes_1\">\n   <g id=\"patch_2\">\n    <path d=\"M 39.65 224.64 \nL 374.45 224.64 \nL 374.45 7.2 \nL 39.65 7.2 \nz\n\" style=\"fill:#ffffff;\"/>\n   </g>\n   <g id=\"matplotlib.axis_1\">\n    <g id=\"xtick_1\">\n     <g id=\"line2d_1\">\n      <defs>\n       <path d=\"M 0 0 \nL 0 3.5 \n\" id=\"m334c7e9eba\" style=\"stroke:#000000;stroke-width:0.8;\"/>\n      </defs>\n      <g>\n       <use style=\"stroke:#000000;stroke-width:0.8;\" x=\"54.868182\" xlink:href=\"#m334c7e9eba\" y=\"224.64\"/>\n      </g>\n     </g>\n     <g id=\"text_1\">\n      <!-- 0 -->\n      <defs>\n       <path d=\"M 31.78125 66.40625 \nQ 24.171875 66.40625 20.328125 58.90625 \nQ 16.5 51.421875 16.5 36.375 \nQ 16.5 21.390625 20.328125 13.890625 \nQ 24.171875 6.390625 31.78125 6.390625 \nQ 39.453125 6.390625 43.28125 13.890625 \nQ 47.125 21.390625 47.125 36.375 \nQ 47.125 51.421875 43.28125 58.90625 \nQ 39.453125 66.40625 31.78125 66.40625 \nz\nM 31.78125 74.21875 \nQ 44.046875 74.21875 50.515625 64.515625 \nQ 56.984375 54.828125 56.984375 36.375 \nQ 56.984375 17.96875 50.515625 8.265625 \nQ 44.046875 -1.421875 31.78125 -1.421875 \nQ 19.53125 -1.421875 13.0625 8.265625 \nQ 6.59375 17.96875 6.59375 36.375 \nQ 6.59375 54.828125 13.0625 64.515625 \nQ 19.53125 74.21875 31.78125 74.21875 \nz\n\" id=\"DejaVuSans-48\"/>\n      </defs>\n      <g transform=\"translate(51.686932 239.238437)scale(0.1 -0.1)\">\n       <use xlink:href=\"#DejaVuSans-48\"/>\n      </g>\n     </g>\n    </g>\n    <g id=\"xtick_2\">\n     <g id=\"line2d_2\">\n      <g>\n       <use style=\"stroke:#000000;stroke-width:0.8;\" x=\"93.10482\" xlink:href=\"#m334c7e9eba\" y=\"224.64\"/>\n      </g>\n     </g>\n     <g id=\"text_2\">\n      <!-- 25 -->\n      <defs>\n       <path d=\"M 19.1875 8.296875 \nL 53.609375 8.296875 \nL 53.609375 0 \nL 7.328125 0 \nL 7.328125 8.296875 \nQ 12.9375 14.109375 22.625 23.890625 \nQ 32.328125 33.6875 34.8125 36.53125 \nQ 39.546875 41.84375 41.421875 45.53125 \nQ 43.3125 49.21875 43.3125 52.78125 \nQ 43.3125 58.59375 39.234375 62.25 \nQ 35.15625 65.921875 28.609375 65.921875 \nQ 23.96875 65.921875 18.8125 64.3125 \nQ 13.671875 62.703125 7.8125 59.421875 \nL 7.8125 69.390625 \nQ 13.765625 71.78125 18.9375 73 \nQ 24.125 74.21875 28.421875 74.21875 \nQ 39.75 74.21875 46.484375 68.546875 \nQ 53.21875 62.890625 53.21875 53.421875 \nQ 53.21875 48.921875 51.53125 44.890625 \nQ 49.859375 40.875 45.40625 35.40625 \nQ 44.1875 33.984375 37.640625 27.21875 \nQ 31.109375 20.453125 19.1875 8.296875 \nz\n\" id=\"DejaVuSans-50\"/>\n       <path d=\"M 10.796875 72.90625 \nL 49.515625 72.90625 \nL 49.515625 64.59375 \nL 19.828125 64.59375 \nL 19.828125 46.734375 \nQ 21.96875 47.46875 24.109375 47.828125 \nQ 26.265625 48.1875 28.421875 48.1875 \nQ 40.625 48.1875 47.75 41.5 \nQ 54.890625 34.8125 54.890625 23.390625 \nQ 54.890625 11.625 47.5625 5.09375 \nQ 40.234375 -1.421875 26.90625 -1.421875 \nQ 22.3125 -1.421875 17.546875 -0.640625 \nQ 12.796875 0.140625 7.71875 1.703125 \nL 7.71875 11.625 \nQ 12.109375 9.234375 16.796875 8.0625 \nQ 21.484375 6.890625 26.703125 6.890625 \nQ 35.15625 6.890625 40.078125 11.328125 \nQ 45.015625 15.765625 45.015625 23.390625 \nQ 45.015625 31 40.078125 35.4375 \nQ 35.15625 39.890625 26.703125 39.890625 \nQ 22.75 39.890625 18.8125 39.015625 \nQ 14.890625 38.140625 10.796875 36.28125 \nz\n\" id=\"DejaVuSans-53\"/>\n      </defs>\n      <g transform=\"translate(86.74232 239.238437)scale(0.1 -0.1)\">\n       <use xlink:href=\"#DejaVuSans-50\"/>\n       <use x=\"63.623047\" xlink:href=\"#DejaVuSans-53\"/>\n      </g>\n     </g>\n    </g>\n    <g id=\"xtick_3\">\n     <g id=\"line2d_3\">\n      <g>\n       <use style=\"stroke:#000000;stroke-width:0.8;\" x=\"131.341457\" xlink:href=\"#m334c7e9eba\" y=\"224.64\"/>\n      </g>\n     </g>\n     <g id=\"text_3\">\n      <!-- 50 -->\n      <g transform=\"translate(124.978957 239.238437)scale(0.1 -0.1)\">\n       <use xlink:href=\"#DejaVuSans-53\"/>\n       <use x=\"63.623047\" xlink:href=\"#DejaVuSans-48\"/>\n      </g>\n     </g>\n    </g>\n    <g id=\"xtick_4\">\n     <g id=\"line2d_4\">\n      <g>\n       <use style=\"stroke:#000000;stroke-width:0.8;\" x=\"169.578095\" xlink:href=\"#m334c7e9eba\" y=\"224.64\"/>\n      </g>\n     </g>\n     <g id=\"text_4\">\n      <!-- 75 -->\n      <defs>\n       <path d=\"M 8.203125 72.90625 \nL 55.078125 72.90625 \nL 55.078125 68.703125 \nL 28.609375 0 \nL 18.3125 0 \nL 43.21875 64.59375 \nL 8.203125 64.59375 \nz\n\" id=\"DejaVuSans-55\"/>\n      </defs>\n      <g transform=\"translate(163.215595 239.238437)scale(0.1 -0.1)\">\n       <use xlink:href=\"#DejaVuSans-55\"/>\n       <use x=\"63.623047\" xlink:href=\"#DejaVuSans-53\"/>\n      </g>\n     </g>\n    </g>\n    <g id=\"xtick_5\">\n     <g id=\"line2d_5\">\n      <g>\n       <use style=\"stroke:#000000;stroke-width:0.8;\" x=\"207.814733\" xlink:href=\"#m334c7e9eba\" y=\"224.64\"/>\n      </g>\n     </g>\n     <g id=\"text_5\">\n      <!-- 100 -->\n      <defs>\n       <path d=\"M 12.40625 8.296875 \nL 28.515625 8.296875 \nL 28.515625 63.921875 \nL 10.984375 60.40625 \nL 10.984375 69.390625 \nL 28.421875 72.90625 \nL 38.28125 72.90625 \nL 38.28125 8.296875 \nL 54.390625 8.296875 \nL 54.390625 0 \nL 12.40625 0 \nz\n\" id=\"DejaVuSans-49\"/>\n      </defs>\n      <g transform=\"translate(198.270983 239.238437)scale(0.1 -0.1)\">\n       <use xlink:href=\"#DejaVuSans-49\"/>\n       <use x=\"63.623047\" xlink:href=\"#DejaVuSans-48\"/>\n       <use x=\"127.246094\" xlink:href=\"#DejaVuSans-48\"/>\n      </g>\n     </g>\n    </g>\n    <g id=\"xtick_6\">\n     <g id=\"line2d_6\">\n      <g>\n       <use style=\"stroke:#000000;stroke-width:0.8;\" x=\"246.05137\" xlink:href=\"#m334c7e9eba\" y=\"224.64\"/>\n      </g>\n     </g>\n     <g id=\"text_6\">\n      <!-- 125 -->\n      <g transform=\"translate(236.50762 239.238437)scale(0.1 -0.1)\">\n       <use xlink:href=\"#DejaVuSans-49\"/>\n       <use x=\"63.623047\" xlink:href=\"#DejaVuSans-50\"/>\n       <use x=\"127.246094\" xlink:href=\"#DejaVuSans-53\"/>\n      </g>\n     </g>\n    </g>\n    <g id=\"xtick_7\">\n     <g id=\"line2d_7\">\n      <g>\n       <use style=\"stroke:#000000;stroke-width:0.8;\" x=\"284.288008\" xlink:href=\"#m334c7e9eba\" y=\"224.64\"/>\n      </g>\n     </g>\n     <g id=\"text_7\">\n      <!-- 150 -->\n      <g transform=\"translate(274.744258 239.238437)scale(0.1 -0.1)\">\n       <use xlink:href=\"#DejaVuSans-49\"/>\n       <use x=\"63.623047\" xlink:href=\"#DejaVuSans-53\"/>\n       <use x=\"127.246094\" xlink:href=\"#DejaVuSans-48\"/>\n      </g>\n     </g>\n    </g>\n    <g id=\"xtick_8\">\n     <g id=\"line2d_8\">\n      <g>\n       <use style=\"stroke:#000000;stroke-width:0.8;\" x=\"322.524646\" xlink:href=\"#m334c7e9eba\" y=\"224.64\"/>\n      </g>\n     </g>\n     <g id=\"text_8\">\n      <!-- 175 -->\n      <g transform=\"translate(312.980896 239.238437)scale(0.1 -0.1)\">\n       <use xlink:href=\"#DejaVuSans-49\"/>\n       <use x=\"63.623047\" xlink:href=\"#DejaVuSans-55\"/>\n       <use x=\"127.246094\" xlink:href=\"#DejaVuSans-53\"/>\n      </g>\n     </g>\n    </g>\n    <g id=\"xtick_9\">\n     <g id=\"line2d_9\">\n      <g>\n       <use style=\"stroke:#000000;stroke-width:0.8;\" x=\"360.761284\" xlink:href=\"#m334c7e9eba\" y=\"224.64\"/>\n      </g>\n     </g>\n     <g id=\"text_9\">\n      <!-- 200 -->\n      <g transform=\"translate(351.217534 239.238437)scale(0.1 -0.1)\">\n       <use xlink:href=\"#DejaVuSans-50\"/>\n       <use x=\"63.623047\" xlink:href=\"#DejaVuSans-48\"/>\n       <use x=\"127.246094\" xlink:href=\"#DejaVuSans-48\"/>\n      </g>\n     </g>\n    </g>\n   </g>\n   <g id=\"matplotlib.axis_2\">\n    <g id=\"ytick_1\">\n     <g id=\"line2d_10\">\n      <defs>\n       <path d=\"M 0 0 \nL -3.5 0 \n\" id=\"mac8d3486bd\" style=\"stroke:#000000;stroke-width:0.8;\"/>\n      </defs>\n      <g>\n       <use style=\"stroke:#000000;stroke-width:0.8;\" x=\"39.65\" xlink:href=\"#mac8d3486bd\" y=\"215.8892\"/>\n      </g>\n     </g>\n     <g id=\"text_10\">\n      <!-- 0 -->\n      <g transform=\"translate(26.2875 219.688418)scale(0.1 -0.1)\">\n       <use xlink:href=\"#DejaVuSans-48\"/>\n      </g>\n     </g>\n    </g>\n    <g id=\"ytick_2\">\n     <g id=\"line2d_11\">\n      <g>\n       <use style=\"stroke:#000000;stroke-width:0.8;\" x=\"39.65\" xlink:href=\"#mac8d3486bd\" y=\"168.138663\"/>\n      </g>\n     </g>\n     <g id=\"text_11\">\n      <!-- 500 -->\n      <g transform=\"translate(13.5625 171.937882)scale(0.1 -0.1)\">\n       <use xlink:href=\"#DejaVuSans-53\"/>\n       <use x=\"63.623047\" xlink:href=\"#DejaVuSans-48\"/>\n       <use x=\"127.246094\" xlink:href=\"#DejaVuSans-48\"/>\n      </g>\n     </g>\n    </g>\n    <g id=\"ytick_3\">\n     <g id=\"line2d_12\">\n      <g>\n       <use style=\"stroke:#000000;stroke-width:0.8;\" x=\"39.65\" xlink:href=\"#mac8d3486bd\" y=\"120.388127\"/>\n      </g>\n     </g>\n     <g id=\"text_12\">\n      <!-- 1000 -->\n      <g transform=\"translate(7.2 124.187346)scale(0.1 -0.1)\">\n       <use xlink:href=\"#DejaVuSans-49\"/>\n       <use x=\"63.623047\" xlink:href=\"#DejaVuSans-48\"/>\n       <use x=\"127.246094\" xlink:href=\"#DejaVuSans-48\"/>\n       <use x=\"190.869141\" xlink:href=\"#DejaVuSans-48\"/>\n      </g>\n     </g>\n    </g>\n    <g id=\"ytick_4\">\n     <g id=\"line2d_13\">\n      <g>\n       <use style=\"stroke:#000000;stroke-width:0.8;\" x=\"39.65\" xlink:href=\"#mac8d3486bd\" y=\"72.637591\"/>\n      </g>\n     </g>\n     <g id=\"text_13\">\n      <!-- 1500 -->\n      <g transform=\"translate(7.2 76.43681)scale(0.1 -0.1)\">\n       <use xlink:href=\"#DejaVuSans-49\"/>\n       <use x=\"63.623047\" xlink:href=\"#DejaVuSans-53\"/>\n       <use x=\"127.246094\" xlink:href=\"#DejaVuSans-48\"/>\n       <use x=\"190.869141\" xlink:href=\"#DejaVuSans-48\"/>\n      </g>\n     </g>\n    </g>\n    <g id=\"ytick_5\">\n     <g id=\"line2d_14\">\n      <g>\n       <use style=\"stroke:#000000;stroke-width:0.8;\" x=\"39.65\" xlink:href=\"#mac8d3486bd\" y=\"24.887055\"/>\n      </g>\n     </g>\n     <g id=\"text_14\">\n      <!-- 2000 -->\n      <g transform=\"translate(7.2 28.686274)scale(0.1 -0.1)\">\n       <use xlink:href=\"#DejaVuSans-50\"/>\n       <use x=\"63.623047\" xlink:href=\"#DejaVuSans-48\"/>\n       <use x=\"127.246094\" xlink:href=\"#DejaVuSans-48\"/>\n       <use x=\"190.869141\" xlink:href=\"#DejaVuSans-48\"/>\n      </g>\n     </g>\n    </g>\n   </g>\n   <g id=\"line2d_15\">\n    <path clip-path=\"url(#pff36d32675)\" d=\"M 54.868182 17.083636 \nL 57.927113 27.145206 \nL 60.986044 36.697558 \nL 65.57444 50.127321 \nL 70.162837 62.550572 \nL 74.751233 74.042746 \nL 79.33963 84.673623 \nL 83.928026 94.507754 \nL 88.516423 103.604853 \nL 93.10482 112.020157 \nL 97.693216 119.804765 \nL 102.281613 127.005944 \nL 106.870009 133.667422 \nL 111.458406 139.829646 \nL 116.046802 145.530033 \nL 120.635199 150.803197 \nL 125.223595 155.681157 \nL 129.811992 160.193531 \nL 134.400388 164.367719 \nL 138.988785 168.229067 \nL 143.577181 171.801021 \nL 148.165578 175.10527 \nL 152.753974 178.161878 \nL 157.342371 180.989403 \nL 161.930767 183.605017 \nL 168.04863 186.790136 \nL 174.166492 189.661015 \nL 180.284354 192.248657 \nL 186.402216 194.581005 \nL 192.520078 196.683246 \nL 198.63794 198.578083 \nL 206.285267 200.685943 \nL 213.932595 202.537144 \nL 221.579922 204.162936 \nL 230.756715 205.854752 \nL 239.933508 207.30248 \nL 249.110302 208.541335 \nL 259.81656 209.762632 \nL 272.052284 210.911878 \nL 285.817474 211.949198 \nL 301.112129 212.850278 \nL 317.936249 213.605364 \nL 337.819301 214.259698 \nL 359.231818 214.756364 \nL 359.231818 214.756364 \n\" style=\"fill:none;stroke:#1f77b4;stroke-linecap:square;stroke-width:1.5;\"/>\n   </g>\n   <g id=\"patch_3\">\n    <path d=\"M 39.65 224.64 \nL 39.65 7.2 \n\" style=\"fill:none;stroke:#000000;stroke-linecap:square;stroke-linejoin:miter;stroke-width:0.8;\"/>\n   </g>\n   <g id=\"patch_4\">\n    <path d=\"M 374.45 224.64 \nL 374.45 7.2 \n\" style=\"fill:none;stroke:#000000;stroke-linecap:square;stroke-linejoin:miter;stroke-width:0.8;\"/>\n   </g>\n   <g id=\"patch_5\">\n    <path d=\"M 39.65 224.64 \nL 374.45 224.64 \n\" style=\"fill:none;stroke:#000000;stroke-linecap:square;stroke-linejoin:miter;stroke-width:0.8;\"/>\n   </g>\n   <g id=\"patch_6\">\n    <path d=\"M 39.65 7.2 \nL 374.45 7.2 \n\" style=\"fill:none;stroke:#000000;stroke-linecap:square;stroke-linejoin:miter;stroke-width:0.8;\"/>\n   </g>\n  </g>\n </g>\n <defs>\n  <clipPath id=\"pff36d32675\">\n   <rect height=\"217.44\" width=\"334.8\" x=\"39.65\" y=\"7.2\"/>\n  </clipPath>\n </defs>\n</svg>\n",
      "image/png": "[encoded data removed]"
     },
     "metadata": {
      "needs_background": "light"
     }
    }
   ],
   "source": [
    "# Number of neurons in each layer\n",
    "neurons = [64, 256, 128, 1]\n",
    "activations = ['sigmoid', 'sigmoid', 'relu']\n",
    "loss_function = 'squared'\n",
    "epochs = 200\n",
    "learning_rate = 0.0001\n",
    "\n",
    "# Data preprocessing\n",
    "onehotencoded = False\n",
    "minibatch = True\n",
    "batch_size = 1500\n",
    "X, Y = preprocess()\n",
    "# Y = onehotencoding(Y)\n",
    "X, Y = create_minibatches(X, Y, batch_size)\n",
    "\n",
    "# Split training and test data\n",
    "num_training = 1500 // batch_size\n",
    "train_X, train_Y = X[: num_training], Y[: num_training]\n",
    "test_X, test_Y = X[num_training:], Y[num_training:]\n",
    "\n",
    "print(train_X.shape, train_Y.shape)\n",
    "\n",
    " # Train the network\n",
    "neuralnet = Neural_Network(neurons, activations, epochs, learning_rate, loss_function)\n",
    "loss = neuralnet.train(train_X, train_Y, minibatch=minibatch)\n",
    "\n",
    "# Plot the results\n",
    "plt.plot(loss)\n",
    "plt.show()"
   ]
  },
  {
   "cell_type": "code",
   "execution_count": null,
   "metadata": {},
   "outputs": [],
   "source": []
  }
 ],
 "metadata": {
  "kernelspec": {
   "display_name": "Python 3",
   "language": "python",
   "name": "python3"
  },
  "language_info": {
   "codemirror_mode": {
    "name": "ipython",
    "version": 3
   },
   "file_extension": ".py",
   "mimetype": "text/x-python",
   "name": "python",
   "nbconvert_exporter": "python",
   "pygments_lexer": "ipython3",
   "version": "3.8.2-final"
  }
 },
 "nbformat": 4,
 "nbformat_minor": 2
}